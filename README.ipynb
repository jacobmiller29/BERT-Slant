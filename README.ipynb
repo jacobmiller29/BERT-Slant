{
 "cells": [
  {
   "cell_type": "markdown",
   "source": [
    "# Quantifiying Media Bias on Cable News: BERT Slant Model\n",
    "\n",
    "In this python notebook I explore quantifiying media bias on U.S. cable news. The idea is to quantify media bias in a very large corpus (≈6 million 1-minute broadcasts) of cable news broadcasts that I web scraped from the [TV Archive][1]. I do this using methods pioneered by Gentzkow and Shapiro (2010) but taking a more state-of-the-art approach in Natural Language Processing (NLP) by using the Transformer model BERT (Devlin et. al. 2018). Gentzkow and Shapiro (2010) measured media bias by learning the phrases of politicians that are the most predictive of politician's ideology. They then captured the use of these phrases in media outlets, the idea being that if a media outlet tends to use many phrases that are associated with conservative politicians, then that media outlet could perceived as being more conservative, or vice versa for liberal phrases and outlets. This measure of media bias is known as \"slant\". For example, it is well known (see Djourelova 2021) that when discussing the topic of immigrants that have arrived to the U.S. via non-legal routes, conservatives tend to refer to these immigrants as \"illegal immigrants\" or \"illegals\", whereas liberals tend to use the term \"undocumented immigrants\". Thus, when discussing this topic, if a media outlet features frequent use of terms like \"illegals\" or \"illegal immigrant\", then that outlet is probably a more conservative outlet. For more examples, see Gentzkow and Shapiro (2010).\n",
    "\n",
    "I take this \"slant\" approach but use more state-of-the-art Transformer models because they are much more powerful than the methods used in Gentzkow and Shapiro (2010). This is because the architecture of Transformer models allows them to take into account important aspects of language, like context, that older methods were unable to capture and which have been shown to be important for models to understand natural language. In addition, these models are pre-trained on truly massive amounts of text, like the entirety of Wikipedia and the Google Books corpus, that makes them extremely powerful at understanding language out-of-the-box. The models can then be \"fine-tuned\" on a specific task, and have been shown to be far more performant on NLP tasks because they can transfer knowledge learned during the pre-training process to the task at hand.\n",
    "\n",
    "Here, the task is to learn ideological language in speeches given by politicians in Congress, with the eventual goal of using the model to capture ideological language on cable news. The idea is to fine-tune the BERT model on a regression task using the text of speeches given by politicians in Congress and using the estimated ideology of the politicians giving the speeches as the target label. Thus, the model should learn the aspects of language that predict a politician's ideology. I do this in a few steps, with the easy to use [Simple Transformers][2] python library. Firstly, I continue the standard BERT pre-training task (known as language modeling) on my corpus of cable news text. This consists of masking random words (\"tokens\") in cable news text, and asking the model to predict the word. The code for this can be seen in scripts/1-preprocessing.py and scripts/2-media-pretraining.py. I then conduct a WandB sweep to tune the hyperparameters (learning rate and number of epochs) for the model, because this will prove important for the performance of the model. The code for this can be found in scripts/3-bertslant-sweep.py. I then train the model with these optimized hyperparameters (code in scripts/4-train-bertslant.py), with the model reaching an $R^2$ of 0.59, which I see as a very good level of performance. Lastly, I run this this model (code in scripts/5-slant-inference.py) on my corpus of cable news text, obtaining the predicted ideology scores of the cable news broadcasts.\n",
    "\n",
    "With this measure of slant in hand, I then summarize slant by channel and show that according to this method, Fox News is the most right-wing channel, MSNBC is the most left-wing, and MSNBC is somewhere more in the middle. These results make sense and align with the literature, see for example Martin and Yurugoklu (2017). \n",
    "\n",
    "\n",
    "\n",
    "[1]: https://archive.org/details/tv\n",
    "[2]: https://simpletransformers.ai/\n"
   ],
   "metadata": {}
  },
  {
   "cell_type": "markdown",
   "source": [
    "Install and load in necessary packages"
   ],
   "metadata": {}
  },
  {
   "cell_type": "code",
   "execution_count": 35,
   "source": [
    "#!pip3 install pandas numpy seaborn wandb\n",
    "\n",
    "import pandas as pd\n",
    "import numpy as np\n",
    "import seaborn as sns\n",
    "import wandb\n",
    "from pprint import pprint \n",
    "\n",
    "sns.set_theme(style=\"ticks\")\n"
   ],
   "outputs": [],
   "metadata": {}
  },
  {
   "cell_type": "markdown",
   "source": [
    "Now we want to load in the data that was used to trained the BERT slant model. This data consists of speeches given by politicians during the 111th-114th Congresses (2009-2016) paired with information on the politicians' ideology. The speeches come from Gentzkow, Shapiro and Taddy (2019), who collected the data from the Congressional Record. They cleaned and parsed the speeches, making them far easier to work with. The politician ideology estimates come from Voteview.com. They estimate politician ideology based on observed voting behavior in Congress. Intuitively, if two politicians consistently vote similarly to one another, then they will be estimated to have a similar ideology. "
   ],
   "metadata": {}
  },
  {
   "cell_type": "code",
   "execution_count": 36,
   "source": [
    "# load in the data\n",
    "cong_ideology_training = pd.read_csv(\"raw-data/congressional_speeches_ideology.csv\", encoding=\"ISO-8859-1\")\n",
    "# keep only speeches from the 111th to the 114th congresses (overlaps with sample period)\n",
    "cong_ideology_training = cong_ideology_training[cong_ideology_training[\"congress\"] >= 111]\n",
    "# convert text to lower case\n",
    "cong_ideology_training[\"speech\"] = cong_ideology_training[\"speech\"].apply(lambda x: x.lower())"
   ],
   "outputs": [],
   "metadata": {}
  },
  {
   "cell_type": "markdown",
   "source": [
    "Below we can see that we have a lot of information to go along with the speeches, including who the speaker was, which Congress the speech was given in, what their position in Congress is, their party, etc. At the end we find two estimates of the speaker's ideology, nominate_dim1 and nominate_dim2. We will focus on nominate_dim1, which is thought to correspond to the traditional \"left-right\" dimension of ideology. "
   ],
   "metadata": {}
  },
  {
   "cell_type": "code",
   "execution_count": 37,
   "source": [
    "# get a selection of data for viewing\n",
    "cong_ideology_training.sample(n=10, random_state=1)"
   ],
   "outputs": [
    {
     "output_type": "execute_result",
     "data": {
      "text/html": [
       "<div>\n",
       "<style scoped>\n",
       "    .dataframe tbody tr th:only-of-type {\n",
       "        vertical-align: middle;\n",
       "    }\n",
       "\n",
       "    .dataframe tbody tr th {\n",
       "        vertical-align: top;\n",
       "    }\n",
       "\n",
       "    .dataframe thead th {\n",
       "        text-align: right;\n",
       "    }\n",
       "</style>\n",
       "<table border=\"1\" class=\"dataframe\">\n",
       "  <thead>\n",
       "    <tr style=\"text-align: right;\">\n",
       "      <th></th>\n",
       "      <th>speakerid</th>\n",
       "      <th>speech_id</th>\n",
       "      <th>lastname</th>\n",
       "      <th>firstname</th>\n",
       "      <th>chamber</th>\n",
       "      <th>state</th>\n",
       "      <th>gender</th>\n",
       "      <th>party</th>\n",
       "      <th>district</th>\n",
       "      <th>nonvoting</th>\n",
       "      <th>speech</th>\n",
       "      <th>congress</th>\n",
       "      <th>sentence_count</th>\n",
       "      <th>bioguide_id</th>\n",
       "      <th>nominate_dim1</th>\n",
       "      <th>nominate_dim2</th>\n",
       "    </tr>\n",
       "  </thead>\n",
       "  <tbody>\n",
       "    <tr>\n",
       "      <th>336843</th>\n",
       "      <td>114120961</td>\n",
       "      <td>1140096858</td>\n",
       "      <td>REID</td>\n",
       "      <td>HARRY</td>\n",
       "      <td>S</td>\n",
       "      <td>NV</td>\n",
       "      <td>M</td>\n",
       "      <td>D</td>\n",
       "      <td>NaN</td>\n",
       "      <td>voting</td>\n",
       "      <td>mr. president. it is not necessary to go into ...</td>\n",
       "      <td>114</td>\n",
       "      <td>127</td>\n",
       "      <td>R000146</td>\n",
       "      <td>-0.276</td>\n",
       "      <td>0.258</td>\n",
       "    </tr>\n",
       "    <tr>\n",
       "      <th>313296</th>\n",
       "      <td>113122390</td>\n",
       "      <td>1130092588</td>\n",
       "      <td>CRAMER</td>\n",
       "      <td>KEVIN</td>\n",
       "      <td>H</td>\n",
       "      <td>ND</td>\n",
       "      <td>M</td>\n",
       "      <td>R</td>\n",
       "      <td>0.0</td>\n",
       "      <td>voting</td>\n",
       "      <td>mr. speaker. in new town. north dakota. right ...</td>\n",
       "      <td>113</td>\n",
       "      <td>17</td>\n",
       "      <td>C001096</td>\n",
       "      <td>0.393</td>\n",
       "      <td>0.327</td>\n",
       "    </tr>\n",
       "    <tr>\n",
       "      <th>275910</th>\n",
       "      <td>113117441</td>\n",
       "      <td>1130003813</td>\n",
       "      <td>LEVIN</td>\n",
       "      <td>CARL</td>\n",
       "      <td>S</td>\n",
       "      <td>MI</td>\n",
       "      <td>M</td>\n",
       "      <td>D</td>\n",
       "      <td>NaN</td>\n",
       "      <td>voting</td>\n",
       "      <td>i thank my good friend from rhode island. who ...</td>\n",
       "      <td>113</td>\n",
       "      <td>127</td>\n",
       "      <td>L000261</td>\n",
       "      <td>-0.395</td>\n",
       "      <td>-0.116</td>\n",
       "    </tr>\n",
       "    <tr>\n",
       "      <th>186495</th>\n",
       "      <td>111115930</td>\n",
       "      <td>1110153004</td>\n",
       "      <td>OBEY</td>\n",
       "      <td>DAVID</td>\n",
       "      <td>H</td>\n",
       "      <td>WI</td>\n",
       "      <td>M</td>\n",
       "      <td>D</td>\n",
       "      <td>7.0</td>\n",
       "      <td>voting</td>\n",
       "      <td>again. as ive said. was my chairman and. as a ...</td>\n",
       "      <td>111</td>\n",
       "      <td>61</td>\n",
       "      <td>O000007</td>\n",
       "      <td>-0.450</td>\n",
       "      <td>-0.063</td>\n",
       "    </tr>\n",
       "    <tr>\n",
       "      <th>326608</th>\n",
       "      <td>114119510</td>\n",
       "      <td>1140054277</td>\n",
       "      <td>GARRETT</td>\n",
       "      <td>SCOTT</td>\n",
       "      <td>H</td>\n",
       "      <td>NJ</td>\n",
       "      <td>M</td>\n",
       "      <td>R</td>\n",
       "      <td>5.0</td>\n",
       "      <td>voting</td>\n",
       "      <td>mr. speaker. i yield myself the balance of my ...</td>\n",
       "      <td>114</td>\n",
       "      <td>12</td>\n",
       "      <td>G000548</td>\n",
       "      <td>0.688</td>\n",
       "      <td>-0.243</td>\n",
       "    </tr>\n",
       "    <tr>\n",
       "      <th>327449</th>\n",
       "      <td>114119620</td>\n",
       "      <td>1140077267</td>\n",
       "      <td>GREEN</td>\n",
       "      <td>AL</td>\n",
       "      <td>H</td>\n",
       "      <td>TX</td>\n",
       "      <td>M</td>\n",
       "      <td>D</td>\n",
       "      <td>9.0</td>\n",
       "      <td>voting</td>\n",
       "      <td>mr. speaker. in consuming this time. let me co...</td>\n",
       "      <td>114</td>\n",
       "      <td>11</td>\n",
       "      <td>G000553</td>\n",
       "      <td>-0.438</td>\n",
       "      <td>0.305</td>\n",
       "    </tr>\n",
       "    <tr>\n",
       "      <th>327227</th>\n",
       "      <td>114119591</td>\n",
       "      <td>1140051405</td>\n",
       "      <td>GRASSLEY</td>\n",
       "      <td>CHARLES</td>\n",
       "      <td>S</td>\n",
       "      <td>IA</td>\n",
       "      <td>M</td>\n",
       "      <td>R</td>\n",
       "      <td>NaN</td>\n",
       "      <td>voting</td>\n",
       "      <td>mr. president. the popes visit this week to ou...</td>\n",
       "      <td>114</td>\n",
       "      <td>78</td>\n",
       "      <td>G000386</td>\n",
       "      <td>0.349</td>\n",
       "      <td>-0.068</td>\n",
       "    </tr>\n",
       "    <tr>\n",
       "      <th>264838</th>\n",
       "      <td>112120751</td>\n",
       "      <td>1120092156</td>\n",
       "      <td>PAUL</td>\n",
       "      <td>RAND</td>\n",
       "      <td>S</td>\n",
       "      <td>KY</td>\n",
       "      <td>M</td>\n",
       "      <td>R</td>\n",
       "      <td>NaN</td>\n",
       "      <td>voting</td>\n",
       "      <td>the question i have for senate is. has your go...</td>\n",
       "      <td>112</td>\n",
       "      <td>52</td>\n",
       "      <td>P000603</td>\n",
       "      <td>0.877</td>\n",
       "      <td>-0.480</td>\n",
       "    </tr>\n",
       "    <tr>\n",
       "      <th>236504</th>\n",
       "      <td>112117441</td>\n",
       "      <td>1120014802</td>\n",
       "      <td>LEVIN</td>\n",
       "      <td>CARL</td>\n",
       "      <td>S</td>\n",
       "      <td>MI</td>\n",
       "      <td>M</td>\n",
       "      <td>D</td>\n",
       "      <td>NaN</td>\n",
       "      <td>voting</td>\n",
       "      <td>mr. president. the badly misguided budget cuts...</td>\n",
       "      <td>112</td>\n",
       "      <td>44</td>\n",
       "      <td>L000261</td>\n",
       "      <td>-0.395</td>\n",
       "      <td>-0.116</td>\n",
       "    </tr>\n",
       "    <tr>\n",
       "      <th>245826</th>\n",
       "      <td>112118381</td>\n",
       "      <td>1120116904</td>\n",
       "      <td>REED</td>\n",
       "      <td>JOHN</td>\n",
       "      <td>S</td>\n",
       "      <td>RI</td>\n",
       "      <td>M</td>\n",
       "      <td>D</td>\n",
       "      <td>NaN</td>\n",
       "      <td>voting</td>\n",
       "      <td>madam president. the agriculture reform. food....</td>\n",
       "      <td>112</td>\n",
       "      <td>44</td>\n",
       "      <td>R000122</td>\n",
       "      <td>-0.367</td>\n",
       "      <td>-0.172</td>\n",
       "    </tr>\n",
       "  </tbody>\n",
       "</table>\n",
       "</div>"
      ],
      "text/plain": [
       "        speakerid   speech_id  lastname firstname chamber state gender party  \\\n",
       "336843  114120961  1140096858      REID     HARRY       S    NV      M     D   \n",
       "313296  113122390  1130092588    CRAMER     KEVIN       H    ND      M     R   \n",
       "275910  113117441  1130003813     LEVIN      CARL       S    MI      M     D   \n",
       "186495  111115930  1110153004      OBEY     DAVID       H    WI      M     D   \n",
       "326608  114119510  1140054277   GARRETT     SCOTT       H    NJ      M     R   \n",
       "327449  114119620  1140077267     GREEN        AL       H    TX      M     D   \n",
       "327227  114119591  1140051405  GRASSLEY   CHARLES       S    IA      M     R   \n",
       "264838  112120751  1120092156      PAUL      RAND       S    KY      M     R   \n",
       "236504  112117441  1120014802     LEVIN      CARL       S    MI      M     D   \n",
       "245826  112118381  1120116904      REED      JOHN       S    RI      M     D   \n",
       "\n",
       "        district nonvoting                                             speech  \\\n",
       "336843       NaN    voting  mr. president. it is not necessary to go into ...   \n",
       "313296       0.0    voting  mr. speaker. in new town. north dakota. right ...   \n",
       "275910       NaN    voting  i thank my good friend from rhode island. who ...   \n",
       "186495       7.0    voting  again. as ive said. was my chairman and. as a ...   \n",
       "326608       5.0    voting  mr. speaker. i yield myself the balance of my ...   \n",
       "327449       9.0    voting  mr. speaker. in consuming this time. let me co...   \n",
       "327227       NaN    voting  mr. president. the popes visit this week to ou...   \n",
       "264838       NaN    voting  the question i have for senate is. has your go...   \n",
       "236504       NaN    voting  mr. president. the badly misguided budget cuts...   \n",
       "245826       NaN    voting  madam president. the agriculture reform. food....   \n",
       "\n",
       "        congress  sentence_count bioguide_id  nominate_dim1  nominate_dim2  \n",
       "336843       114             127     R000146         -0.276          0.258  \n",
       "313296       113              17     C001096          0.393          0.327  \n",
       "275910       113             127     L000261         -0.395         -0.116  \n",
       "186495       111              61     O000007         -0.450         -0.063  \n",
       "326608       114              12     G000548          0.688         -0.243  \n",
       "327449       114              11     G000553         -0.438          0.305  \n",
       "327227       114              78     G000386          0.349         -0.068  \n",
       "264838       112              52     P000603          0.877         -0.480  \n",
       "236504       112              44     L000261         -0.395         -0.116  \n",
       "245826       112              44     R000122         -0.367         -0.172  "
      ]
     },
     "metadata": {},
     "execution_count": 37
    }
   ],
   "metadata": {}
  },
  {
   "cell_type": "markdown",
   "source": [
    "Here we print one of the speeches given by one of the most conservative senators in Congress, Rand Paul: "
   ],
   "metadata": {}
  },
  {
   "cell_type": "code",
   "execution_count": 38,
   "source": [
    "pprint(\"Rand Paul Ideology Score: \" + str(cong_ideology_training[\"nominate_dim1\"][264838]))\n",
    "pprint(cong_ideology_training.speech[264838])"
   ],
   "outputs": [
    {
     "output_type": "stream",
     "name": "stdout",
     "text": [
      "'Rand Paul Ideology Score: 0.877'\n",
      "('the question i have for senate is. has your government gotten out of '\n",
      " 'control? have the regulators become so numerous and so zealous that we cant '\n",
      " 'even carry on the ordinary affairs of our government? we recently had a '\n",
      " 'bridge where a boat ran into the bridge in kentucky and one could no longer '\n",
      " 'cross the bridge because it is not there. we have to wait for environmental '\n",
      " 'regulations and environmental studies. which sometimes can be 4 and 5 years. '\n",
      " 'before we can repair our bridges and our roads during an emergency. this is '\n",
      " 'crazy. this goes on even in regular affairs. such as trying to replace a '\n",
      " 'sewage plant in our state or throughout the united states. do we want to '\n",
      " 'live in a country where we have to stop and count how many barnacles are on '\n",
      " 'our bridge before we decide whether to rebuild the bridge? do we want to '\n",
      " 'stop and count how many mussels are attached to the pier before we rebuild '\n",
      " 'the bridge? in the end we are going to rebuild the bridge anyway. but we '\n",
      " 'spend a years time or more wasted on these studies but in the end we are '\n",
      " 'going to rebuild the bridge. i will give an example. we have a small town in '\n",
      " 'kentucky that has a sewage plant. and the population of the town has '\n",
      " 'outgrown the sewage plant. when it rains. the raw sewage goes into the '\n",
      " 'river. i dont know any republican or democrat who wants raw sewage in the '\n",
      " 'river. so we need a new sewage plant in the town. but what does the epa say? '\n",
      " 'they want to count the mussels. they want to count the mussels in the river '\n",
      " 'and then they want to estimate will there be more mussels or less mussels '\n",
      " 'after we build a new sewage plant. guess what. when we build a new sewage '\n",
      " 'plant. the raw sewage would not go in the river. which is what we all intend '\n",
      " 'and in the end what will happen but. in the meantime. we waste time and '\n",
      " 'money. this small town of about 300 people is going to have to spend '\n",
      " '$100.000 on an epa study to hire someone to count the mussels. while they '\n",
      " 'are counting the mussels. they are going to have to hire someone to count '\n",
      " 'the indian artifacts and look for indian arrowheads. if they find an '\n",
      " 'arrowhead. it may delay it indefinitely. we have gone crazy as a country. we '\n",
      " 'all want some rules. we dont want anyone to pollute our neighbors property. '\n",
      " 'but the epa is out of control. what we need to do is in emergencies or '\n",
      " 'urgencies. when a bridge collapses or a roadway is washed away. we dont need '\n",
      " 'to spend 1 year or 2 or 4 or 5 years doing an epa study. which basically '\n",
      " 'enriches some contractor that counts the mussels. we dont need to be '\n",
      " 'counting the mussels in this stream. we need to get to repairing the bridge. '\n",
      " 'which we are going to do anyway. we are just going to waste 1 year counting '\n",
      " 'the mussels and paying some contractor $100.000 a year. so this amendment '\n",
      " 'would allow states to opt out. the bridge we have out in kentucky has two '\n",
      " 'communities. many people live in one community and have to drive to the '\n",
      " 'other community. they cant get there because of the bridge. do we want to '\n",
      " 'wait 1 year because they have to count how many barnacles are on the bridge? '\n",
      " 'this is a commonsense resolution that should pass. but i will tell you the '\n",
      " 'way washington works. the other side doesnt want my amendment to pass. even '\n",
      " 'though it has common sense. so they are going to offer an alternative. their '\n",
      " 'alternative is to say something but do nothing. it is called a '\n",
      " 'senseofthesenate resolution. they will proudly proclaim we need to make it '\n",
      " 'better. and. please. mr. regulator. make it better. but they will not change '\n",
      " 'the law. mine would actually change the law to allow communities to start '\n",
      " 'rebuilding their bridge or repairing their road almost immediately. in the '\n",
      " 'same location. free of the government regulations. we need to do this at all '\n",
      " 'levels. this is a very small incremental step forward. it is something on '\n",
      " 'which we should all agree. if we watch the vote later on today. we will find '\n",
      " 'out we dont all agree and. instead. the other side is going to say: say '\n",
      " 'something. do nothing. this is something we need to. as a society. get '\n",
      " 'started on because we are being killed by regulations. this is one small '\n",
      " 'step on something that should be bipartisan. there are many more steps that '\n",
      " 'need to be taken. because throughout our country millions of jobs are being '\n",
      " 'lost from overzealous regulators. millions of peoples privacy and private '\n",
      " 'property rights are being invaded by these regulators. and this is a very '\n",
      " 'small incremental stop of the encroachment of these regulators. i urge '\n",
      " 'support of my amendment 1556. and i yield back the balance of my time. i '\n",
      " 'suggest the absence of a quorum.')\n"
     ]
    }
   ],
   "metadata": {}
  },
  {
   "cell_type": "markdown",
   "source": [
    "And here is an example of a speech given by a famous liberal senator, Bernie Sanders: "
   ],
   "metadata": {}
  },
  {
   "cell_type": "code",
   "execution_count": 39,
   "source": [
    "pprint(\"Bernie Sanders Ideology Score: \" + str(cong_ideology_training[\"nominate_dim1\"][202558]))\n",
    "pprint(cong_ideology_training[\"speech\"][202558])"
   ],
   "outputs": [
    {
     "output_type": "stream",
     "name": "stdout",
     "text": [
      "'Bernie Sanders Ideology Score: -0.531'\n",
      "('mr. president. soon we will be voting on the lilly ledbetter fair pay act. '\n",
      " 's. 181. the house of representatives has already passed this legislation by '\n",
      " 'a vote of 247 to 171. passing this bill today will send a clear message that '\n",
      " 'our country will not tolerate unequal pay for equal work. as astonishing as '\n",
      " 'it is. in the year 2009. women earn. on average. only 77 cents for every '\n",
      " 'dollar earned by men in comparable jobs. what a truly unthinkable. and '\n",
      " 'frankly disgraceful. circumstanceone that we must do everything within our '\n",
      " 'power to change. today we have the opportunity to take a small but very '\n",
      " 'significant step in making sure that americans have the legal opportunity to '\n",
      " 'challenge pay discrimination. lilly ledbetter was a loyal employee at '\n",
      " 'goodyear tire and rubber company for 19 years. at first. .her salary was in '\n",
      " 'line with that of her male colleagues. but over time she got smaller raises '\n",
      " 'creating a significant pay gap. ms. ledbetter was not -aware of this pay '\n",
      " 'discrimination until she received an anonymous note detailing the salaries '\n",
      " 'of three male coworkers. after filing a complaint with the equal employment '\n",
      " 'and opportunity commission. her case went to trial and the jury awarded her '\n",
      " '$3.3 million in compensatory and punitive damages due to the extreme pay '\n",
      " 'discrimination she endured. the court of appeals for the eleventh circuit '\n",
      " 'reversed this verdict. arguing that ms. ledbetter filed her complaint too '\n",
      " 'late. if you asked anyone on the street. they would tell you that this '\n",
      " 'decision goes against the citizens of this countrys sense of right and '\n",
      " 'wrong. how was she to know that this discrimination was happening? ms. '\n",
      " 'ledbetter was already facing sexual harassment at goodyear tire and rubber '\n",
      " 'co. and told by her boss that he didnt think a woman should be working '\n",
      " 'there. to argue that ms. ledbetter should have asked her male counterparts '\n",
      " 'what their salaries were at the moment she suspected discrimination defies '\n",
      " 'common sense. this topic was off limits. as it is in most work places. it is '\n",
      " 'clearly not her fault she didnt discover this inequity sooner. in 2007. the '\n",
      " 'supreme court upheld the eleventh circuit ruling in ledbetter v. goodyear '\n",
      " 'tire and rubber co. and. as a result. took us a step back in time. it gutted '\n",
      " 'a key part of the civil rights act of 1964 that has protected hardworking '\n",
      " 'americans from pay discrimination for 45 years by making it extraordinarily '\n",
      " 'difficult for victims of pay discrimination to sue their employers. the bill '\n",
      " 'before us overturns the courts 54 decision and reinstates prior law. it '\n",
      " 'ensures that victims of pay discrimination will not be penalized if they are '\n",
      " 'unaware of wage disparities. i am happy to say that we will have the '\n",
      " 'opportunity today to protect millions of hardworking americans and reverse '\n",
      " 'the unreasonable and unfair ledbetter decision. i call on all of my senate '\n",
      " 'colleagues to vote in favor of this bill. which will send a clear signal '\n",
      " 'that pay discrimination is unacceptable and will not be tolerated.')\n"
     ]
    }
   ],
   "metadata": {}
  },
  {
   "cell_type": "markdown",
   "source": [
    "Here we plot the distribution of nominate_dim1 in Congress, underlining the polarization and partisanship in Congress between liberal and conservative ideology. This is the source of variation that the model will attempt to learn to predict, given the words that politicians use in their speeches."
   ],
   "metadata": {}
  },
  {
   "cell_type": "code",
   "execution_count": 40,
   "source": [
    "# plot the distribution of ideology in congress\n",
    "sns.displot(cong_ideology_training, x=\"nominate_dim1\", hue = \"party\", kind=\"kde\", fill=True)"
   ],
   "outputs": [
    {
     "output_type": "execute_result",
     "data": {
      "text/plain": [
       "<seaborn.axisgrid.FacetGrid at 0x126753580>"
      ]
     },
     "metadata": {},
     "execution_count": 40
    },
    {
     "output_type": "display_data",
     "data": {
      "image/png": "[encoded data removed]",
      "text/plain": [
       "<Figure size 407.6x360 with 1 Axes>"
      ]
     },
     "metadata": {}
    }
   ],
   "metadata": {}
  },
  {
   "cell_type": "markdown",
   "source": [
    "Next, I used this data to train the BERT model to recognize ideological speech. The \"features\" are the text of the speeches, and the target labels are the ideological scores. Because ideology is a continuous variable, the training task was a regression task (adding a final linear layer to the BERT model). To converge on a final model, I used WandB sweeps to tune the two most important hyperparameters of these models, the learning rate and the number of epochs. Because these models are very costly to train, I do not do this here. You can see the code for this in scripts/3-bertslant-sweep.py. The results from training these models on powerful cloud computing systems with GPUs on the UZH science cloud platform are presented below from WandB:"
   ],
   "metadata": {}
  },
  {
   "cell_type": "code",
   "execution_count": 41,
   "source": [
    "%wandb jacob-miller29/Slant%20Hyperparamater%20Optimization"
   ],
   "outputs": [
    {
     "output_type": "display_data",
     "data": {
      "text/html": [
       "<iframe src=\"https://wandb.ai/jacob-miller29/Slant%20Hyperparamater%20Optimization/workspace?jupyter=true\" style=\"border:none;width:100%;height:420px;\"></iframe>"
      ],
      "text/plain": [
       "<wandb.jupyter.IFrame at 0x10385b190>"
      ]
     },
     "metadata": {}
    }
   ],
   "metadata": {}
  },
  {
   "cell_type": "markdown",
   "source": [
    "After many runs of the model, I converged on a learning rate of 2e-05 and 3 epochs of training as the optimal hyperparameters in this setting. I then trained a model with these hyperparameters in scripts/4-train-bertslant-algorithm.py. The results are presented below. As we can see, the model reaches an $R^2$ of 0.59, meaning that given the text of speeches in the test set, the model can explain 59% of the variation in politician ideology. "
   ],
   "metadata": {}
  },
  {
   "cell_type": "code",
   "execution_count": 42,
   "source": [
    "%wandb jacob-miller29/bert-slant"
   ],
   "outputs": [
    {
     "output_type": "display_data",
     "data": {
      "text/html": [
       "<iframe src=\"https://wandb.ai/jacob-miller29/bert-slant/workspace?jupyter=true\" style=\"border:none;width:100%;height:420px;\"></iframe>"
      ],
      "text/plain": [
       "<wandb.jupyter.IFrame at 0x127d39dc0>"
      ]
     },
     "metadata": {}
    }
   ],
   "metadata": {}
  },
  {
   "cell_type": "markdown",
   "source": [
    "I then ran this model on my dataset of cable news broadcasts (≈6 million 1-minute broadcast segments) to get the predicted ideology scores of the media broadcasts. I load these results in, and merge them to some metadata so we can start to explore slant on the media. "
   ],
   "metadata": {}
  },
  {
   "cell_type": "code",
   "execution_count": 43,
   "source": [
    "# load in the cable news slant scores as predicted from the BERT slant model\n",
    "media_slant_scores = pd.read_csv(\"output-data/media-slant-scores.csv\", usecols = [\"id\", \"slant\"])\n",
    "\n",
    "# the ideology score was normalized to speed up training, now I undo this normalization to restore the original values\n",
    "media_slant_scores[\"slant\"] = media_slant_scores[\"slant\"]*(0.913 + 0.757) - 0.757\n",
    "# load in some meta data for the cable news segments\n",
    "tv_archive_data = pd.read_csv(\"raw-data/tv-archive-data.csv\", usecols = [\"id\", \"date\", \"channel\"])\n",
    "\n",
    "# resolving some channel name issues\n",
    "conditions = [\n",
    "    tv_archive_data[\"channel\"] == \"FOXNEWSW\",\n",
    "    tv_archive_data[\"channel\"] == \"MSNBCW\",\n",
    "    tv_archive_data[\"channel\"] == \"CNNW\"\n",
    "]\n",
    "choices = [\"FOXNEWS\", \"MSNBC\", \"CNN\"]\n",
    "tv_archive_data[\"channel\"] = np.select(conditions, choices)\n",
    "\n",
    "# keep only cable news \n",
    "tv_archive_data = tv_archive_data[(tv_archive_data[\"channel\"] == \"FOXNEWS\") | (tv_archive_data[\"channel\"] == \"MSNBC\") | (tv_archive_data[\"channel\"] == \"CNN\")]\n",
    "# merge the meta data in\n",
    "media_slant = media_slant_scores.merge(tv_archive_data, on=\"id\", how=\"inner\")"
   ],
   "outputs": [],
   "metadata": {}
  },
  {
   "cell_type": "markdown",
   "source": [
    "Here I plot the distribution of estimated slant by channel. As we can see, Fox News is the most right-wing channel, MSNBC is the most left-wing channel, and CNN is slightly more moderate. These results make sense, and are in line with what other papers in the literature have found. Thus we've made a first start at understanding media bias! "
   ],
   "metadata": {}
  },
  {
   "cell_type": "code",
   "execution_count": 44,
   "source": [
    "# plot the distribution of slant by channel\n",
    "sns.displot(media_slant, x=\"slant\", hue=\"channel\", kind=\"kde\", fill=True)"
   ],
   "outputs": [
    {
     "output_type": "execute_result",
     "data": {
      "text/plain": [
       "<seaborn.axisgrid.FacetGrid at 0x12864a820>"
      ]
     },
     "metadata": {},
     "execution_count": 44
    },
    {
     "output_type": "display_data",
     "data": {
      "image/png": "[encoded data removed]",
      "text/plain": [
       "<Figure size 455.1x360 with 1 Axes>"
      ]
     },
     "metadata": {}
    }
   ],
   "metadata": {}
  },
  {
   "cell_type": "markdown",
   "source": [
    "# References \n",
    "\n",
    "Devlin, Jacob, Ming Wei Chang, Kenton Lee, and Kristina Toutavnova. 2018. “BERT: Pre-training of Deep Bidirectional Transformers for Language Understanding.” *arXiv*: 1810.04805.\n",
    "\n",
    "Djourelova, Milena. 2021. “Media Persuasion through Slanted Language: Evidence from the Coverage of Immigration.” *Working Paper*.\n",
    "\n",
    "Gentzkow, Matthew, and Jesse M. Shapiro. 2010. “What Drives Media Slant: Evidence from U.S. Daily Newspapers.” *Econometrica*, 78(1): 35-71.\n",
    "\n",
    "Gentzkow, Matthew, Jesse M. Shapiro, and Matt Taddy. 2019. “Measuring Group Differences in High-Dimensional Choices: Method and Application to Congressional Speech.” *Econometrica*, 87(4): 1307-1340.\n",
    "\n",
    "Martin, Gregory J., and Ali Yurugoklu. 2017. “Bias in Cable News: Persuasion and Polarization.” *American Economic Review* 107(9): 2565-2599."
   ],
   "metadata": {}
  }
 ],
 "metadata": {
  "orig_nbformat": 4,
  "language_info": {
   "name": "python",
   "version": "3.9.10",
   "mimetype": "text/x-python",
   "codemirror_mode": {
    "name": "ipython",
    "version": 3
   },
   "pygments_lexer": "ipython3",
   "nbconvert_exporter": "python",
   "file_extension": ".py"
  },
  "kernelspec": {
   "name": "python3",
   "display_name": "Python 3.9.10 64-bit"
  },
  "interpreter": {
   "hash": "aee8b7b246df8f9039afb4144a1f6fd8d2ca17a180786b69acc140d282b71a49"
  }
 },
 "nbformat": 4,
 "nbformat_minor": 2
}